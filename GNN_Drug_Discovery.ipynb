{
  "nbformat": 4,
  "nbformat_minor": 0,
  "metadata": {
    "colab": {
      "provenance": []
    },
    "kernelspec": {
      "name": "python3",
      "display_name": "Python 3"
    },
    "language_info": {
      "name": "python"
    }
  },
  "cells": [
    {
      "cell_type": "markdown",
      "metadata": {
        "id": "oia4DCDpaXKA"
      },
      "source": [
        "# GNN Drug Discovery - Toxicity Prediction\n",
        "\n",
        "The Deepchem and dataset setup below was taken from the official tutorial: [link ](https://github.com/deepchem/deepchem/blob/master/examples/tutorials/03_Modeling_Solubility.ipynb)\n",
        "\n",
        "The code is a modified version of this [file](https://github.com/deepchem/deepchem/blob/master/examples/tox21/tox21_tensorgraph_graph_conv.py)."
      ]
    },
    {
      "cell_type": "code",
      "metadata": {
        "id": "MyPiGA7qa7dZ",
        "colab": {
          "base_uri": "https://localhost:8080/",
          "height": 472
        },
        "outputId": "4b2cd8e1-e483-4832-8387-cb48ad788290"
      },
      "source": [
        "# Installing Deepchem\n",
        "!pip install --pre deepchem\n",
        "# Import deepchem just to check the version\n",
        "import deepchem\n",
        "deepchem.__version__"
      ],
      "execution_count": 1,
      "outputs": [
        {
          "output_type": "stream",
          "name": "stdout",
          "text": [
            "Looking in indexes: https://pypi.org/simple, https://us-python.pkg.dev/colab-wheels/public/simple/\n",
            "Collecting deepchem\n",
            "  Downloading deepchem-2.7.2.dev20230419161626-py3-none-any.whl (773 kB)\n",
            "\u001b[2K     \u001b[90m━━━━━━━━━━━━━━━━━━━━━━━━━━━━━━━━━━━━━━\u001b[0m \u001b[32m773.0/773.0 kB\u001b[0m \u001b[31m13.3 MB/s\u001b[0m eta \u001b[36m0:00:00\u001b[0m\n",
            "\u001b[?25hRequirement already satisfied: joblib in /usr/local/lib/python3.9/dist-packages (from deepchem) (1.2.0)\n",
            "Requirement already satisfied: scikit-learn in /usr/local/lib/python3.9/dist-packages (from deepchem) (1.2.2)\n",
            "Requirement already satisfied: pandas in /usr/local/lib/python3.9/dist-packages (from deepchem) (1.5.3)\n",
            "Collecting rdkit\n",
            "  Downloading rdkit-2023.3.1b1-cp39-cp39-manylinux_2_17_x86_64.manylinux2014_x86_64.whl (29.7 MB)\n",
            "\u001b[2K     \u001b[90m━━━━━━━━━━━━━━━━━━━━━━━━━━━━━━━━━━━━━━━━\u001b[0m \u001b[32m29.7/29.7 MB\u001b[0m \u001b[31m20.5 MB/s\u001b[0m eta \u001b[36m0:00:00\u001b[0m\n",
            "\u001b[?25hRequirement already satisfied: numpy>=1.21 in /usr/local/lib/python3.9/dist-packages (from deepchem) (1.22.4)\n",
            "Requirement already satisfied: scipy in /usr/local/lib/python3.9/dist-packages (from deepchem) (1.10.1)\n",
            "Requirement already satisfied: pytz>=2020.1 in /usr/local/lib/python3.9/dist-packages (from pandas->deepchem) (2022.7.1)\n",
            "Requirement already satisfied: python-dateutil>=2.8.1 in /usr/local/lib/python3.9/dist-packages (from pandas->deepchem) (2.8.2)\n",
            "Requirement already satisfied: Pillow in /usr/local/lib/python3.9/dist-packages (from rdkit->deepchem) (8.4.0)\n",
            "Requirement already satisfied: threadpoolctl>=2.0.0 in /usr/local/lib/python3.9/dist-packages (from scikit-learn->deepchem) (3.1.0)\n",
            "Requirement already satisfied: six>=1.5 in /usr/local/lib/python3.9/dist-packages (from python-dateutil>=2.8.1->pandas->deepchem) (1.16.0)\n",
            "Installing collected packages: rdkit, deepchem\n",
            "Successfully installed deepchem-2.7.2.dev20230419161626 rdkit-2023.3.1b1\n"
          ]
        },
        {
          "output_type": "stream",
          "name": "stderr",
          "text": [
            "WARNING:deepchem.feat.molecule_featurizers.rdkit_descriptors:No normalization for AvgIpc. Feature removed!\n",
            "WARNING:deepchem.models.torch_models:Skipped loading modules with pytorch-geometric dependency, missing a dependency. No module named 'torch_geometric'\n",
            "WARNING:deepchem.models:Skipped loading modules with pytorch-geometric dependency, missing a dependency. cannot import name 'DMPNN' from 'deepchem.models.torch_models' (/usr/local/lib/python3.9/dist-packages/deepchem/models/torch_models/__init__.py)\n",
            "WARNING:deepchem.models:Skipped loading modules with pytorch-lightning dependency, missing a dependency. No module named 'pytorch_lightning'\n",
            "WARNING:deepchem.models:Skipped loading some Jax models, missing a dependency. No module named 'haiku'\n"
          ]
        },
        {
          "output_type": "execute_result",
          "data": {
            "text/plain": [
              "'2.7.2.dev'"
            ],
            "application/vnd.google.colaboratory.intrinsic+json": {
              "type": "string"
            }
          },
          "metadata": {},
          "execution_count": 1
        }
      ]
    },
    {
      "cell_type": "code",
      "metadata": {
        "id": "CuubN3RVa9Pr"
      },
      "source": [
        "# Importing required libraries and its utilities\n",
        "import random\n",
        "random.seed(155)\n",
        "import numpy as np\n",
        "np.random.seed(155)\n",
        "import tensorflow as tf\n",
        "tf.random.set_seed(155)\n",
        "import deepchem as dc\n",
        "from deepchem.molnet import load_tox21\n",
        "from deepchem.models.graph_models import GraphConvModel"
      ],
      "execution_count": 19,
      "outputs": []
    },
    {
      "cell_type": "markdown",
      "source": [
        "# Data\n",
        "\n",
        "The Tox21 dataset is a collection of chemical compounds and their associated toxicological effects. It includes binary labels indicating whether a compound is active or inactive with respect to 12 protein targets in the human body, as well as molecular descriptors for each compound. It has been widely used as a benchmark for the development of machine learning models for toxicity prediction.\n",
        "\n",
        "Get and analyze the data of the tox21 dataset"
      ],
      "metadata": {
        "id": "bE3dDVhPyQpH"
      }
    },
    {
      "cell_type": "code",
      "source": [
        "import requests\n",
        "import pandas as pd\n",
        "\n",
        "url = \"https://deepchemdata.s3-us-west-1.amazonaws.com/datasets/tox21.csv.gz\"\n",
        "filename = url.split(\"/\")[-1]\n",
        "with open(filename, \"wb\") as f:\n",
        "    r = requests.get(url)\n",
        "    f.write(r.content)\n",
        "\n",
        "tox21_dataset = pd.read_csv(filename)"
      ],
      "metadata": {
        "id": "OE0QS3xjydjX"
      },
      "execution_count": 20,
      "outputs": []
    },
    {
      "cell_type": "code",
      "source": [
        "tox21_dataset.head()"
      ],
      "metadata": {
        "colab": {
          "base_uri": "https://localhost:8080/",
          "height": 250
        },
        "id": "yyk2blas2LfT",
        "outputId": "29291b5e-06bd-4240-96e4-17abcd285346"
      },
      "execution_count": 21,
      "outputs": [
        {
          "output_type": "execute_result",
          "data": {
            "text/plain": [
              "   NR-AR  NR-AR-LBD  NR-AhR  NR-Aromatase  NR-ER  NR-ER-LBD  NR-PPAR-gamma  \\\n",
              "0    0.0        0.0     1.0           NaN    NaN        0.0            0.0   \n",
              "1    0.0        0.0     0.0           0.0    0.0        0.0            0.0   \n",
              "2    NaN        NaN     NaN           NaN    NaN        NaN            NaN   \n",
              "3    0.0        0.0     0.0           0.0    0.0        0.0            0.0   \n",
              "4    0.0        0.0     0.0           0.0    0.0        0.0            0.0   \n",
              "\n",
              "   SR-ARE  SR-ATAD5  SR-HSE  SR-MMP  SR-p53    mol_id  \\\n",
              "0     1.0       0.0     0.0     0.0     0.0   TOX3021   \n",
              "1     NaN       0.0     NaN     0.0     0.0   TOX3020   \n",
              "2     0.0       NaN     0.0     NaN     NaN   TOX3024   \n",
              "3     NaN       0.0     NaN     0.0     0.0   TOX3027   \n",
              "4     0.0       0.0     0.0     0.0     0.0  TOX20800   \n",
              "\n",
              "                                              smiles  \n",
              "0                       CCOc1ccc2nc(S(N)(=O)=O)sc2c1  \n",
              "1                          CCN1C(=O)NC(c2ccccc2)C1=O  \n",
              "2  CC[C@]1(O)CC[C@H]2[C@@H]3CCC4=CCCC[C@@H]4[C@H]...  \n",
              "3                    CCCN(CC)C(CC)C(=O)Nc1c(C)cccc1C  \n",
              "4                          CC(O)(P(=O)(O)O)P(=O)(O)O  "
            ],
            "text/html": [
              "\n",
              "  <div id=\"df-19202e21-6a1e-4f97-b2db-b032f84d5350\">\n",
              "    <div class=\"colab-df-container\">\n",
              "      <div>\n",
              "<style scoped>\n",
              "    .dataframe tbody tr th:only-of-type {\n",
              "        vertical-align: middle;\n",
              "    }\n",
              "\n",
              "    .dataframe tbody tr th {\n",
              "        vertical-align: top;\n",
              "    }\n",
              "\n",
              "    .dataframe thead th {\n",
              "        text-align: right;\n",
              "    }\n",
              "</style>\n",
              "<table border=\"1\" class=\"dataframe\">\n",
              "  <thead>\n",
              "    <tr style=\"text-align: right;\">\n",
              "      <th></th>\n",
              "      <th>NR-AR</th>\n",
              "      <th>NR-AR-LBD</th>\n",
              "      <th>NR-AhR</th>\n",
              "      <th>NR-Aromatase</th>\n",
              "      <th>NR-ER</th>\n",
              "      <th>NR-ER-LBD</th>\n",
              "      <th>NR-PPAR-gamma</th>\n",
              "      <th>SR-ARE</th>\n",
              "      <th>SR-ATAD5</th>\n",
              "      <th>SR-HSE</th>\n",
              "      <th>SR-MMP</th>\n",
              "      <th>SR-p53</th>\n",
              "      <th>mol_id</th>\n",
              "      <th>smiles</th>\n",
              "    </tr>\n",
              "  </thead>\n",
              "  <tbody>\n",
              "    <tr>\n",
              "      <th>0</th>\n",
              "      <td>0.0</td>\n",
              "      <td>0.0</td>\n",
              "      <td>1.0</td>\n",
              "      <td>NaN</td>\n",
              "      <td>NaN</td>\n",
              "      <td>0.0</td>\n",
              "      <td>0.0</td>\n",
              "      <td>1.0</td>\n",
              "      <td>0.0</td>\n",
              "      <td>0.0</td>\n",
              "      <td>0.0</td>\n",
              "      <td>0.0</td>\n",
              "      <td>TOX3021</td>\n",
              "      <td>CCOc1ccc2nc(S(N)(=O)=O)sc2c1</td>\n",
              "    </tr>\n",
              "    <tr>\n",
              "      <th>1</th>\n",
              "      <td>0.0</td>\n",
              "      <td>0.0</td>\n",
              "      <td>0.0</td>\n",
              "      <td>0.0</td>\n",
              "      <td>0.0</td>\n",
              "      <td>0.0</td>\n",
              "      <td>0.0</td>\n",
              "      <td>NaN</td>\n",
              "      <td>0.0</td>\n",
              "      <td>NaN</td>\n",
              "      <td>0.0</td>\n",
              "      <td>0.0</td>\n",
              "      <td>TOX3020</td>\n",
              "      <td>CCN1C(=O)NC(c2ccccc2)C1=O</td>\n",
              "    </tr>\n",
              "    <tr>\n",
              "      <th>2</th>\n",
              "      <td>NaN</td>\n",
              "      <td>NaN</td>\n",
              "      <td>NaN</td>\n",
              "      <td>NaN</td>\n",
              "      <td>NaN</td>\n",
              "      <td>NaN</td>\n",
              "      <td>NaN</td>\n",
              "      <td>0.0</td>\n",
              "      <td>NaN</td>\n",
              "      <td>0.0</td>\n",
              "      <td>NaN</td>\n",
              "      <td>NaN</td>\n",
              "      <td>TOX3024</td>\n",
              "      <td>CC[C@]1(O)CC[C@H]2[C@@H]3CCC4=CCCC[C@@H]4[C@H]...</td>\n",
              "    </tr>\n",
              "    <tr>\n",
              "      <th>3</th>\n",
              "      <td>0.0</td>\n",
              "      <td>0.0</td>\n",
              "      <td>0.0</td>\n",
              "      <td>0.0</td>\n",
              "      <td>0.0</td>\n",
              "      <td>0.0</td>\n",
              "      <td>0.0</td>\n",
              "      <td>NaN</td>\n",
              "      <td>0.0</td>\n",
              "      <td>NaN</td>\n",
              "      <td>0.0</td>\n",
              "      <td>0.0</td>\n",
              "      <td>TOX3027</td>\n",
              "      <td>CCCN(CC)C(CC)C(=O)Nc1c(C)cccc1C</td>\n",
              "    </tr>\n",
              "    <tr>\n",
              "      <th>4</th>\n",
              "      <td>0.0</td>\n",
              "      <td>0.0</td>\n",
              "      <td>0.0</td>\n",
              "      <td>0.0</td>\n",
              "      <td>0.0</td>\n",
              "      <td>0.0</td>\n",
              "      <td>0.0</td>\n",
              "      <td>0.0</td>\n",
              "      <td>0.0</td>\n",
              "      <td>0.0</td>\n",
              "      <td>0.0</td>\n",
              "      <td>0.0</td>\n",
              "      <td>TOX20800</td>\n",
              "      <td>CC(O)(P(=O)(O)O)P(=O)(O)O</td>\n",
              "    </tr>\n",
              "  </tbody>\n",
              "</table>\n",
              "</div>\n",
              "      <button class=\"colab-df-convert\" onclick=\"convertToInteractive('df-19202e21-6a1e-4f97-b2db-b032f84d5350')\"\n",
              "              title=\"Convert this dataframe to an interactive table.\"\n",
              "              style=\"display:none;\">\n",
              "        \n",
              "  <svg xmlns=\"http://www.w3.org/2000/svg\" height=\"24px\"viewBox=\"0 0 24 24\"\n",
              "       width=\"24px\">\n",
              "    <path d=\"M0 0h24v24H0V0z\" fill=\"none\"/>\n",
              "    <path d=\"M18.56 5.44l.94 2.06.94-2.06 2.06-.94-2.06-.94-.94-2.06-.94 2.06-2.06.94zm-11 1L8.5 8.5l.94-2.06 2.06-.94-2.06-.94L8.5 2.5l-.94 2.06-2.06.94zm10 10l.94 2.06.94-2.06 2.06-.94-2.06-.94-.94-2.06-.94 2.06-2.06.94z\"/><path d=\"M17.41 7.96l-1.37-1.37c-.4-.4-.92-.59-1.43-.59-.52 0-1.04.2-1.43.59L10.3 9.45l-7.72 7.72c-.78.78-.78 2.05 0 2.83L4 21.41c.39.39.9.59 1.41.59.51 0 1.02-.2 1.41-.59l7.78-7.78 2.81-2.81c.8-.78.8-2.07 0-2.86zM5.41 20L4 18.59l7.72-7.72 1.47 1.35L5.41 20z\"/>\n",
              "  </svg>\n",
              "      </button>\n",
              "      \n",
              "  <style>\n",
              "    .colab-df-container {\n",
              "      display:flex;\n",
              "      flex-wrap:wrap;\n",
              "      gap: 12px;\n",
              "    }\n",
              "\n",
              "    .colab-df-convert {\n",
              "      background-color: #E8F0FE;\n",
              "      border: none;\n",
              "      border-radius: 50%;\n",
              "      cursor: pointer;\n",
              "      display: none;\n",
              "      fill: #1967D2;\n",
              "      height: 32px;\n",
              "      padding: 0 0 0 0;\n",
              "      width: 32px;\n",
              "    }\n",
              "\n",
              "    .colab-df-convert:hover {\n",
              "      background-color: #E2EBFA;\n",
              "      box-shadow: 0px 1px 2px rgba(60, 64, 67, 0.3), 0px 1px 3px 1px rgba(60, 64, 67, 0.15);\n",
              "      fill: #174EA6;\n",
              "    }\n",
              "\n",
              "    [theme=dark] .colab-df-convert {\n",
              "      background-color: #3B4455;\n",
              "      fill: #D2E3FC;\n",
              "    }\n",
              "\n",
              "    [theme=dark] .colab-df-convert:hover {\n",
              "      background-color: #434B5C;\n",
              "      box-shadow: 0px 1px 3px 1px rgba(0, 0, 0, 0.15);\n",
              "      filter: drop-shadow(0px 1px 2px rgba(0, 0, 0, 0.3));\n",
              "      fill: #FFFFFF;\n",
              "    }\n",
              "  </style>\n",
              "\n",
              "      <script>\n",
              "        const buttonEl =\n",
              "          document.querySelector('#df-19202e21-6a1e-4f97-b2db-b032f84d5350 button.colab-df-convert');\n",
              "        buttonEl.style.display =\n",
              "          google.colab.kernel.accessAllowed ? 'block' : 'none';\n",
              "\n",
              "        async function convertToInteractive(key) {\n",
              "          const element = document.querySelector('#df-19202e21-6a1e-4f97-b2db-b032f84d5350');\n",
              "          const dataTable =\n",
              "            await google.colab.kernel.invokeFunction('convertToInteractive',\n",
              "                                                     [key], {});\n",
              "          if (!dataTable) return;\n",
              "\n",
              "          const docLinkHtml = 'Like what you see? Visit the ' +\n",
              "            '<a target=\"_blank\" href=https://colab.research.google.com/notebooks/data_table.ipynb>data table notebook</a>'\n",
              "            + ' to learn more about interactive tables.';\n",
              "          element.innerHTML = '';\n",
              "          dataTable['output_type'] = 'display_data';\n",
              "          await google.colab.output.renderOutput(dataTable, element);\n",
              "          const docLink = document.createElement('div');\n",
              "          docLink.innerHTML = docLinkHtml;\n",
              "          element.appendChild(docLink);\n",
              "        }\n",
              "      </script>\n",
              "    </div>\n",
              "  </div>\n",
              "  "
            ]
          },
          "metadata": {},
          "execution_count": 21
        }
      ]
    },
    {
      "cell_type": "code",
      "source": [
        "import matplotlib.pyplot as plt\n",
        "\n",
        "# Define the number of active and inactive datapoints\n",
        "num_active = (tox21_dataset == 1).sum().sum()\n",
        "num_inactive = (tox21_dataset == 0).sum().sum()\n",
        "\n",
        "# Create a pie chart showing the proportion of active vs. inactive datapoints\n",
        "labels = ['Active', 'Inactive']\n",
        "sizes = [num_active, num_inactive]\n",
        "colors = ['orange', 'gray']\n",
        "plt.pie(sizes, labels=labels, colors=colors, autopct='%1.1f%%')\n",
        "\n",
        "# Set the title of the chart\n",
        "plt.title('Proportion of Active vs. Inactive Datapoints')\n",
        "\n",
        "# Show the chart\n",
        "plt.show()"
      ],
      "metadata": {
        "colab": {
          "base_uri": "https://localhost:8080/",
          "height": 428
        },
        "id": "leP5yc-8IWb3",
        "outputId": "5ae5405f-d130-4b7b-a4f2-b0a019e1b1c6"
      },
      "execution_count": 48,
      "outputs": [
        {
          "output_type": "display_data",
          "data": {
            "text/plain": [
              "<Figure size 640x480 with 1 Axes>"
            ],
            "image/png": "[encoded data removed]"
          },
          "metadata": {}
        }
      ]
    },
    {
      "cell_type": "code",
      "source": [
        "from rdkit import Chem\n",
        "from rdkit.Chem.Draw import IPythonConsole\n",
        "\n",
        "# Define the SMILES string\n",
        "smiles = tox21_dataset.smiles[0]\n",
        "\n",
        "# Convert the SMILES string to a molecule object\n",
        "mol = Chem.MolFromSmiles(smiles)\n",
        "\n",
        "# Visualize the molecule using RDKit\n",
        "mol"
      ],
      "metadata": {
        "colab": {
          "base_uri": "https://localhost:8080/",
          "height": 167
        },
        "id": "9X071DKsC_pf",
        "outputId": "2b6f5fa3-2cd9-4535-fae1-208e6a06b583"
      },
      "execution_count": 44,
      "outputs": [
        {
          "output_type": "execute_result",
          "data": {
            "text/plain": [
              "<rdkit.Chem.rdchem.Mol at 0x7fc26544beb0>"
            ],
            "image/png": "[encoded data removed]"
          },
          "metadata": {},
          "execution_count": 44
        }
      ]
    },
    {
      "cell_type": "markdown",
      "source": [
        "# DeepChem\n",
        "\n",
        "DeepChem is a popular open-source Python library for deep learning in drug discovery, materials science, and biology. It provides a wide range of tools and models for working with molecular data, including chemical fingerprints, molecular graphs, and protein sequences. DeepChem supports a variety of deep learning frameworks, including TensorFlow and PyTorch, and includes pre-trained models for a range of tasks, such as molecule generation, property prediction, and bioactivity classification."
      ],
      "metadata": {
        "id": "sm6_MK1bzXhh"
      }
    },
    {
      "cell_type": "markdown",
      "source": [
        "## MultiTaskClassifier Using Molecular Fingerprints"
      ],
      "metadata": {
        "id": "RQU5D2g-59mt"
      }
    },
    {
      "cell_type": "markdown",
      "source": [
        "A molecular fingerprint is a method of encoding the structural information of a molecule as a fixed-length vector of binary or integer values. The molecular fingerprint is typically used as a descriptor of the molecule in cheminformatics and machine learning applications.\n",
        "\n",
        "There are many different types of molecular fingerprints, but they all aim to capture some aspect of the molecular structure or properties that is relevant for the specific application. For example, some molecular fingerprints are based on the presence or absence of specific substructures or functional groups in the molecule, while others are based on the 2D or 3D topology of the molecule.\n",
        "\n",
        "One common use case for molecular fingerprints is virtual screening, where a large database of compounds is searched for molecules that are similar to a known active compound or pharmacophore. The molecular fingerprints of the compounds in the database can be compared to the query fingerprint using a similarity metric such as the Tanimoto coefficient, and the top-scoring hits can be further analyzed or tested in experiments."
      ],
      "metadata": {
        "id": "qQnP-AiEGp_v"
      }
    },
    {
      "cell_type": "code",
      "source": [
        "tasks, datasets, transformers = dc.molnet.load_tox21(featurizer='ECFP')\n",
        "train_dataset, valid_dataset, test_dataset = datasets\n",
        "print(train_dataset)"
      ],
      "metadata": {
        "colab": {
          "base_uri": "https://localhost:8080/"
        },
        "id": "2SAZonvn6B7f",
        "outputId": "2f5a1cfd-f8d2-4010-e54c-a5b565cb428e"
      },
      "execution_count": 28,
      "outputs": [
        {
          "output_type": "stream",
          "name": "stdout",
          "text": [
            "<DiskDataset X.shape: (6264, 1024), y.shape: (6264, 12), w.shape: (6264, 12), task_names: ['NR-AR' 'NR-AR-LBD' 'NR-AhR' ... 'SR-HSE' 'SR-MMP' 'SR-p53']>\n"
          ]
        }
      ]
    },
    {
      "cell_type": "markdown",
      "source": [
        "ECFP (Extended Connectivity Fingerprint) is a molecular fingerprinting method that encodes the structural information of a molecule as a binary vector. The ECFP fingerprint of a molecule is computed by recursively encoding the connectivity of its atoms into a fixed-length bit vector, where each bit represents the presence or absence of a particular substructure."
      ],
      "metadata": {
        "id": "K6jYlzS_G0OI"
      }
    },
    {
      "cell_type": "code",
      "source": [
        "print(transformers)"
      ],
      "metadata": {
        "colab": {
          "base_uri": "https://localhost:8080/"
        },
        "id": "cbGFGKXHI-KX",
        "outputId": "d82df7be-29d0-4e5b-b21a-96527461d06d"
      },
      "execution_count": 50,
      "outputs": [
        {
          "output_type": "stream",
          "name": "stdout",
          "text": [
            "[<deepchem.trans.transformers.BalancingTransformer object at 0x7fc254afc3d0>]\n"
          ]
        }
      ]
    },
    {
      "cell_type": "markdown",
      "source": [
        "This transformer balances the number of positive and negative examples for each task in the dataset, by oversampling the minority class or undersampling the majority class"
      ],
      "metadata": {
        "id": "4Hk5qgz_JM-J"
      }
    },
    {
      "cell_type": "code",
      "source": [
        "model = dc.models.MultitaskClassifier(n_tasks=12, n_features=1024, layer_sizes=[1000], batch_size=32) # Fully connected network with 1 dense layer of 1000"
      ],
      "metadata": {
        "id": "HeURWrQB6Q5X"
      },
      "execution_count": 40,
      "outputs": []
    },
    {
      "cell_type": "code",
      "source": [
        "import numpy as np\n",
        "\n",
        "model.fit(train_dataset, nb_epoch=10)\n",
        "metric = dc.metrics.Metric(dc.metrics.roc_auc_score)\n",
        "print('training set score:', model.evaluate(train_dataset, [metric], transformers))\n",
        "print('test set score:', model.evaluate(test_dataset, [metric], transformers))"
      ],
      "metadata": {
        "colab": {
          "base_uri": "https://localhost:8080/"
        },
        "id": "kmAQXjjD6TRn",
        "outputId": "3028f65f-d3eb-4b32-e276-70f52e60717f"
      },
      "execution_count": 41,
      "outputs": [
        {
          "output_type": "stream",
          "name": "stdout",
          "text": [
            "training set score: {'roc_auc_score': 0.9716500509164768}\n",
            "test set score: {'roc_auc_score': 0.6796278022752703}\n"
          ]
        }
      ]
    },
    {
      "cell_type": "markdown",
      "source": [
        "## Graph Convolutional Network"
      ],
      "metadata": {
        "id": "8u9dZjua55_Q"
      }
    },
    {
      "cell_type": "markdown",
      "source": [
        "A graph convolutional network (GCN) is a neural network designed to work with graph-structured data. GCNs use a message passing scheme to propagate information between the nodes of the graph, and apply convolutional filters to extract features from the local graph neighborhoods. The key idea is to define a graph convolution operation that combines the features of neighboring nodes into a new feature vector for each node"
      ],
      "metadata": {
        "id": "NXvBsfxzKhDT"
      }
    },
    {
      "cell_type": "code",
      "metadata": {
        "id": "lGg6EzZJbT-f"
      },
      "source": [
        "tox21_tasks, tox21_datasets, transformers = load_tox21(featurizer='GraphConv') # TODO what does this exactly does, how does it process to be the graph for graphconv GraphData is object\n",
        "train_dataset, valid_dataset, test_dataset = tox21_datasets"
      ],
      "execution_count": 51,
      "outputs": []
    },
    {
      "cell_type": "code",
      "metadata": {
        "id": "FuCaMFR8chWD"
      },
      "source": [
        "# Define metric for the model\n",
        "metric = dc.metrics.Metric(dc.metrics.roc_auc_score, \n",
        "                           task_averager=np.mean, # average across 12 tasks\n",
        "                           mode=\"classification\")\n"
      ],
      "execution_count": 53,
      "outputs": []
    },
    {
      "cell_type": "code",
      "metadata": {
        "id": "e6EF_v8Qc4nA",
        "colab": {
          "base_uri": "https://localhost:8080/"
        },
        "outputId": "12ead1be-3fc8-4152-b0c7-966870a7339a"
      },
      "source": [
        "# Define and fit the model\n",
        "model = GraphConvModel(len(tox21_tasks), \n",
        "                       batch_size=32, \n",
        "                       mode='classification')\n",
        "print(\"Fitting the model\")\n",
        "model.fit(train_dataset, nb_epoch=10) # TODO which loss used\n"
      ],
      "execution_count": 54,
      "outputs": [
        {
          "output_type": "stream",
          "name": "stdout",
          "text": [
            "Fitting the model\n"
          ]
        },
        {
          "output_type": "execute_result",
          "data": {
            "text/plain": [
              "0.6991443634033203"
            ]
          },
          "metadata": {},
          "execution_count": 54
        }
      ]
    },
    {
      "cell_type": "code",
      "metadata": {
        "id": "tdWnr7sHdVs8",
        "colab": {
          "base_uri": "https://localhost:8080/"
        },
        "outputId": "b7728637-533e-4a16-a8c3-8e86a20444e1"
      },
      "source": [
        "print(\"Evaluating model with ROC AUC\")\n",
        "train_scores = model.evaluate(train_dataset, [metric], transformers)\n",
        "valid_scores = model.evaluate(valid_dataset, [metric], transformers)"
      ],
      "execution_count": 11,
      "outputs": [
        {
          "output_type": "stream",
          "name": "stdout",
          "text": [
            "Evaluating model with ROC AUC\n"
          ]
        }
      ]
    },
    {
      "cell_type": "code",
      "metadata": {
        "id": "pB4Hq-nqddVn",
        "colab": {
          "base_uri": "https://localhost:8080/"
        },
        "outputId": "a27d03ad-4101-49af-ab18-acc317c6bd2a"
      },
      "source": [
        "print(\"Train scores\")\n",
        "print(train_scores)\n",
        "\n",
        "print(\"Validation scores\")\n",
        "print(valid_scores)"
      ],
      "execution_count": 12,
      "outputs": [
        {
          "output_type": "stream",
          "name": "stdout",
          "text": [
            "Train scores\n",
            "{'mean-roc_auc_score': 0.8902731707769181}\n",
            "Validation scores\n",
            "{'mean-roc_auc_score': 0.7279278872190327}\n"
          ]
        }
      ]
    },
    {
      "cell_type": "markdown",
      "source": [
        "# Our Graph Convolutional Model"
      ],
      "metadata": {
        "id": "fDHY4nGF9eIj"
      }
    },
    {
      "cell_type": "code",
      "source": [
        "class OurGraphPool(tf.keras.layers.Layer):\n",
        "    \"\"\"A GraphPool gathers data from local neighborhoods of a graph.\n",
        "    This layer does a max-pooling over the feature vectors of atoms in a\n",
        "    neighborhood. You can think of this layer as analogous to a max-pooling\n",
        "    layer for 2D convolutions but which operates on graphs instead. This\n",
        "    technique is described in [1]_.\n",
        "    References\n",
        "    ----------\n",
        "    .. [1] Duvenaud, David K., et al. \"Convolutional networks on graphs for\n",
        "        learning molecular fingerprints.\" Advances in neural information processing\n",
        "        systems. 2015. https://arxiv.org/abs/1509.09292\n",
        "    \"\"\"\n",
        "\n",
        "    def __init__(self, reducer=\"max\", min_degree=0, max_degree=10, **kwargs):\n",
        "        \"\"\"Initialize this layer\n",
        "        Parameters\n",
        "        ----------\n",
        "        min_deg: int, optional (default 0)\n",
        "            The minimum allowed degree for each graph node.\n",
        "        max_deg: int, optional (default 10)\n",
        "            The maximum allowed degree for each graph node. Note that this\n",
        "            is set to 10 to handle complex molecules (some organometallic\n",
        "            compounds have strange structures). If you're using this for\n",
        "            non-molecular applications, you may need to set this much higher\n",
        "            depending on your dataset.\n",
        "        \"\"\"\n",
        "        super().__init__(**kwargs)\n",
        "        self.min_degree = min_degree\n",
        "        self.max_degree = max_degree\n",
        "        self.reducer = reducer\n",
        "\n",
        "    def get_config(self):\n",
        "        config = super(GraphPool, self).get_config()\n",
        "        config['min_degree'] = self.min_degree\n",
        "        config['max_degree'] = self.max_degree\n",
        "        config['reducer'] = self.reducer\n",
        "        return config\n",
        "\n",
        "    def call(self, inputs):\n",
        "        atom_features = inputs[0]\n",
        "        deg_slice = inputs[1]\n",
        "        deg_adj_lists = inputs[3:]\n",
        "\n",
        "        # Perform the mol gather\n",
        "        # atom_features = graph_pool(atom_features, deg_adj_lists, deg_slice,\n",
        "        #                            self.max_degree, self.min_degree)\n",
        "\n",
        "        deg_reduced = (self.max_degree + 1 - self.min_degree) * [None]\n",
        "\n",
        "        # Tensorflow correctly processes empty lists when using concat\n",
        "\n",
        "        split_features = tf.split(atom_features, deg_slice[:, 1])\n",
        "        for deg in range(1, self.max_degree + 1):\n",
        "            # Get self atoms\n",
        "            self_atoms = split_features[deg - self.min_degree]\n",
        "\n",
        "            if deg_adj_lists[deg - 1].shape[0] == 0:\n",
        "                # There are no neighbors of this degree, so just create an empty tensor directly.\n",
        "                reduced_atoms = tf.zeros((0, self_atoms.shape[-1]))\n",
        "            else:\n",
        "                # Expand dims\n",
        "                self_atoms = tf.expand_dims(self_atoms, 1)\n",
        "\n",
        "                # always deg-1 for deg_adj_lists\n",
        "                gathered_atoms = tf.gather(atom_features,\n",
        "                                           deg_adj_lists[deg - 1])\n",
        "                gathered_atoms = tf.concat(axis=1,\n",
        "                                           values=[self_atoms, gathered_atoms])\n",
        "\n",
        "                if self.reducer==\"max\":\n",
        "                  reduced_atoms = tf.reduce_max(gathered_atoms, 1)\n",
        "                elif self.reducer==\"mean\":\n",
        "                  reduced_atoms = tf.reduce_mean(gathered_atoms, 1)\n",
        "                elif self.reducer==\"sum\":\n",
        "                  reduced_atoms = tf.reduce_sum(gathered_atoms, 1)\n",
        "                else:\n",
        "                  print(\"Wrong reducer specified\")\n",
        "            deg_reduced[deg - self.min_degree] = reduced_atoms\n",
        "\n",
        "        if self.min_degree == 0:\n",
        "            self_atoms = split_features[0]\n",
        "            deg_reduced[0] = self_atoms\n",
        "\n",
        "        return tf.concat(axis=0, values=deg_reduced)"
      ],
      "metadata": {
        "id": "_tEnqWewQemo"
      },
      "execution_count": 86,
      "outputs": []
    },
    {
      "cell_type": "code",
      "source": [
        "from deepchem.models.layers import GraphConv, GraphPool, GraphGather\n",
        "import tensorflow as tf\n",
        "import tensorflow.keras.layers as layers\n",
        "\n",
        "from deepchem.metrics import to_one_hot\n",
        "from deepchem.feat.mol_graphs import ConvMol\n",
        "import numpy as np\n",
        "\n",
        "\n",
        "batch_size = 32\n",
        "n_tasks = len(tox21_tasks)\n",
        "\n",
        "class OurGraphConvModel(tf.keras.Model):\n",
        "\n",
        "  def __init__(self, reducer:str='max'):\n",
        "    super().__init__()\n",
        "    self.reducer = reducer\n",
        "    self.gc1 = GraphConv(128, activation_fn=tf.nn.tanh)\n",
        "    self.batch_norm1 = layers.BatchNormalization()\n",
        "    self.gp1 = OurGraphPool(reducer)\n",
        "\n",
        "    self.gc2 = GraphConv(128, activation_fn=tf.nn.tanh)\n",
        "    self.batch_norm2 = layers.BatchNormalization()\n",
        "    self.gp2 = OurGraphPool(reducer)\n",
        "\n",
        "    self.dense1 = layers.Dense(256, activation=tf.nn.tanh)\n",
        "    self.batch_norm3 = layers.BatchNormalization()\n",
        "    self.readout = GraphGather(batch_size=batch_size, activation_fn=tf.nn.tanh)\n",
        "\n",
        "    self.dense2 = layers.Dense(n_tasks*2)\n",
        "    self.logits = layers.Reshape((n_tasks, 2))\n",
        "    self.softmax = layers.Softmax()\n",
        "\n",
        "  def call(self, inputs):\n",
        "    gc1_output = self.gc1(inputs)\n",
        "    batch_norm1_output = self.batch_norm1(gc1_output)\n",
        "    gp1_output = self.gp1([batch_norm1_output] + inputs[1:])\n",
        "\n",
        "    gc2_output = self.gc2([gp1_output] + inputs[1:])\n",
        "    batch_norm2_output = self.batch_norm1(gc2_output)\n",
        "    gp2_output = self.gp2([batch_norm2_output] + inputs[1:])\n",
        "\n",
        "    dense1_output = self.dense1(gp2_output)\n",
        "    batch_norm3_output = self.batch_norm3(dense1_output)\n",
        "    readout_output = self.readout([batch_norm3_output] + inputs[1:])\n",
        "\n",
        "    logits_output = self.logits(self.dense2(readout_output))\n",
        "    return self.softmax(logits_output)"
      ],
      "metadata": {
        "id": "xP9IMg1UzCh-"
      },
      "execution_count": 87,
      "outputs": []
    },
    {
      "cell_type": "code",
      "source": [
        "model = dc.models.KerasModel(OurGraphConvModel(reducer=\"max\"), loss=dc.models.losses.SoftmaxCrossEntropy())"
      ],
      "metadata": {
        "id": "2T5biBsRMW-D"
      },
      "execution_count": 88,
      "outputs": []
    },
    {
      "cell_type": "code",
      "source": [
        "def data_generator(dataset, epochs=1):\n",
        "  for ind, (X_b, y_b, w_b, ids_b) in enumerate(dataset.iterbatches(batch_size, epochs,\n",
        "                                                                   deterministic=False, pad_batches=True)):\n",
        "    multiConvMol = ConvMol.agglomerate_mols(X_b) #  For each batch, the molecular structures are converted into a ConvMol object, which is a data structure used in GCN models to represent the graph of the molecule\n",
        "    inputs = [multiConvMol.get_atom_features(), multiConvMol.deg_slice, np.array(multiConvMol.membership)]\n",
        "    for i in range(1, len(multiConvMol.get_deg_adjacency_lists())):\n",
        "      inputs.append(multiConvMol.get_deg_adjacency_lists()[i])\n",
        "    labels = [to_one_hot(y_b.flatten(), 2).reshape(-1, n_tasks, 2)]\n",
        "    weights = [w_b]\n",
        "    yield (inputs, labels, weights)"
      ],
      "metadata": {
        "id": "IHrTNRaENER0"
      },
      "execution_count": 89,
      "outputs": []
    },
    {
      "cell_type": "code",
      "source": [
        "model.fit_generator(data_generator(train_dataset, epochs=10))"
      ],
      "metadata": {
        "colab": {
          "base_uri": "https://localhost:8080/"
        },
        "id": "_pZZDC1KNHmL",
        "outputId": "1c14bf0c-3e4a-49d7-b2e8-af9cca68ec12"
      },
      "execution_count": 90,
      "outputs": [
        {
          "output_type": "execute_result",
          "data": {
            "text/plain": [
              "0.8721981048583984"
            ]
          },
          "metadata": {},
          "execution_count": 90
        }
      ]
    },
    {
      "cell_type": "code",
      "source": [
        "print('Training set score:', model.evaluate_generator(data_generator(train_dataset), [metric], transformers))\n",
        "print('Test set score:', model.evaluate_generator(data_generator(test_dataset), [metric], transformers))"
      ],
      "metadata": {
        "colab": {
          "base_uri": "https://localhost:8080/"
        },
        "id": "G0undR0WNO0s",
        "outputId": "bd301527-05d8-4076-ecb2-8b0f1b183704"
      },
      "execution_count": 91,
      "outputs": [
        {
          "output_type": "stream",
          "name": "stdout",
          "text": [
            "Training set score: {'mean-roc_auc_score': 0.8079709473492954}\n",
            "Test set score: {'mean-roc_auc_score': 0.652671133781235}\n"
          ]
        }
      ]
    },
    {
      "cell_type": "markdown",
      "source": [
        "# Graph Pooling"
      ],
      "metadata": {
        "id": "6iluJIq0zDaX"
      }
    },
    {
      "cell_type": "markdown",
      "source": [
        "Mean Pooling"
      ],
      "metadata": {
        "id": "5Aor-ZqwSb2T"
      }
    },
    {
      "cell_type": "code",
      "source": [
        "model = dc.models.KerasModel(OurGraphConvModel(reducer=\"mean\"), loss=dc.models.losses.SoftmaxCrossEntropy())\n",
        "model.fit_generator(data_generator(train_dataset, epochs=10))"
      ],
      "metadata": {
        "colab": {
          "base_uri": "https://localhost:8080/"
        },
        "id": "FzsSpHAr-CkQ",
        "outputId": "4201363f-d310-4c79-fdf4-3dd81ba324bc"
      },
      "execution_count": 92,
      "outputs": [
        {
          "output_type": "execute_result",
          "data": {
            "text/plain": [
              "0.8921214421590169"
            ]
          },
          "metadata": {},
          "execution_count": 92
        }
      ]
    },
    {
      "cell_type": "code",
      "source": [
        "print('Training set score:', model.evaluate_generator(data_generator(train_dataset), [metric], transformers))\n",
        "print('Test set score:', model.evaluate_generator(data_generator(test_dataset), [metric], transformers))"
      ],
      "metadata": {
        "colab": {
          "base_uri": "https://localhost:8080/"
        },
        "id": "m_MMdtsbSX_B",
        "outputId": "a3967b5b-2893-423c-b094-763f551115f6"
      },
      "execution_count": 93,
      "outputs": [
        {
          "output_type": "stream",
          "name": "stdout",
          "text": [
            "Training set score: {'mean-roc_auc_score': 0.808731022389944}\n",
            "Test set score: {'mean-roc_auc_score': 0.6815968455628695}\n"
          ]
        }
      ]
    },
    {
      "cell_type": "markdown",
      "source": [
        "Sum Pooling"
      ],
      "metadata": {
        "id": "GJg-QlIzSeVp"
      }
    },
    {
      "cell_type": "code",
      "source": [
        "model = dc.models.KerasModel(OurGraphConvModel(reducer=\"sum\"), loss=dc.models.losses.SoftmaxCrossEntropy())\n",
        "model.fit_generator(data_generator(train_dataset, epochs=10))"
      ],
      "metadata": {
        "colab": {
          "base_uri": "https://localhost:8080/"
        },
        "id": "Y-sq99VmSKQp",
        "outputId": "c89288f3-d524-4aac-b433-2df2b278e062"
      },
      "execution_count": 94,
      "outputs": [
        {
          "output_type": "execute_result",
          "data": {
            "text/plain": [
              "0.8948502858479818"
            ]
          },
          "metadata": {},
          "execution_count": 94
        }
      ]
    },
    {
      "cell_type": "code",
      "source": [
        "print('Training set score:', model.evaluate_generator(data_generator(train_dataset), [metric], transformers))\n",
        "print('Test set score:', model.evaluate_generator(data_generator(test_dataset), [metric], transformers))"
      ],
      "metadata": {
        "colab": {
          "base_uri": "https://localhost:8080/"
        },
        "id": "Q7k8_BkbSY6x",
        "outputId": "780afb19-0354-46ca-ff4d-e272e1b6cfe2"
      },
      "execution_count": 95,
      "outputs": [
        {
          "output_type": "stream",
          "name": "stdout",
          "text": [
            "Training set score: {'mean-roc_auc_score': 0.8047736435089993}\n",
            "Test set score: {'mean-roc_auc_score': 0.6685742602709833}\n"
          ]
        }
      ]
    },
    {
      "cell_type": "code",
      "source": [],
      "metadata": {
        "id": "SyldGGigUPNT"
      },
      "execution_count": null,
      "outputs": []
    }
  ]
}